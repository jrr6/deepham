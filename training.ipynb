{
 "cells": [
  {
   "cell_type": "code",
   "execution_count": 1,
   "metadata": {},
   "outputs": [],
   "source": [
    "%matplotlib inline\n",
    "from main import train_model\n",
    "import matplotlib.pyplot as plt"
   ]
  },
  {
   "cell_type": "code",
   "execution_count": 2,
   "metadata": {},
   "outputs": [
    {
     "ename": "KeyboardInterrupt",
     "evalue": "",
     "output_type": "error",
     "traceback": [
      "\u001b[0;31m---------------------------------------------------------------------------\u001b[0m",
      "\u001b[0;31mKeyboardInterrupt\u001b[0m                         Traceback (most recent call last)",
      "Cell \u001b[0;32mIn[2], line 2\u001b[0m\n\u001b[1;32m      1\u001b[0m plt\u001b[39m.\u001b[39mrcParams[\u001b[39m'\u001b[39m\u001b[39mfigure.figsize\u001b[39m\u001b[39m'\u001b[39m] \u001b[39m=\u001b[39m [\u001b[39m10\u001b[39m, \u001b[39m5\u001b[39m]\n\u001b[0;32m----> 2\u001b[0m train_model(visualize\u001b[39m=\u001b[39;49m\u001b[39mTrue\u001b[39;49;00m, notebook\u001b[39m=\u001b[39;49m\u001b[39mTrue\u001b[39;49;00m, random\u001b[39m=\u001b[39;49m\u001b[39mFalse\u001b[39;49;00m)\n",
      "File \u001b[0;32m~/Library/CloudStorage/OneDrive-Personal/Brown/CSCI1470/deep_learning_py/deepham/main.py:98\u001b[0m, in \u001b[0;36mtrain_model\u001b[0;34m(visualize, notebook, random)\u001b[0m\n\u001b[1;32m     95\u001b[0m \u001b[39m# env = GraphState() # also set new_graph=True\u001b[39;00m\n\u001b[1;32m     96\u001b[0m \u001b[39m# for i in range(N_EPISODES):\u001b[39;00m\n\u001b[1;32m     97\u001b[0m \u001b[39mfor\u001b[39;00m i, env \u001b[39min\u001b[39;00m \u001b[39menumerate\u001b[39m(ReplayBuffer(N_EPISODES)):\n\u001b[0;32m---> 98\u001b[0m     loss \u001b[39m=\u001b[39m run_episode(model, env, optimizer, criterion) \u001b[39mif\u001b[39;00m \u001b[39mnot\u001b[39;00m random \\\n\u001b[1;32m     99\u001b[0m             \u001b[39melse\u001b[39;00m run_random_episode(model, env, optimizer, criterion)\n\u001b[1;32m    101\u001b[0m     lengths\u001b[39m.\u001b[39mappend(\u001b[39mlen\u001b[39m(env\u001b[39m.\u001b[39mpath))\n\u001b[1;32m    102\u001b[0m     losses\u001b[39m.\u001b[39mappend(loss\u001b[39m.\u001b[39mdetach()\u001b[39m.\u001b[39mnumpy())\n",
      "File \u001b[0;32m~/Library/CloudStorage/OneDrive-Personal/Brown/CSCI1470/deep_learning_py/deepham/main.py:51\u001b[0m, in \u001b[0;36mrun_episode\u001b[0;34m(model, env, optimizer, criterion)\u001b[0m\n\u001b[1;32m     48\u001b[0m     log_probs\u001b[39m.\u001b[39mappend(distribution\u001b[39m.\u001b[39mlog_prob(chosen_action))\n\u001b[1;32m     50\u001b[0m loss \u001b[39m=\u001b[39m criterion(log_probs, values, rewards)\n\u001b[0;32m---> 51\u001b[0m loss\u001b[39m.\u001b[39;49mbackward()\n\u001b[1;32m     52\u001b[0m optimizer\u001b[39m.\u001b[39mstep()\n\u001b[1;32m     53\u001b[0m \u001b[39mreturn\u001b[39;00m loss\n",
      "File \u001b[0;32m/usr/local/anaconda3/envs/csci1470/lib/python3.10/site-packages/torch/_tensor.py:488\u001b[0m, in \u001b[0;36mTensor.backward\u001b[0;34m(self, gradient, retain_graph, create_graph, inputs)\u001b[0m\n\u001b[1;32m    478\u001b[0m \u001b[39mif\u001b[39;00m has_torch_function_unary(\u001b[39mself\u001b[39m):\n\u001b[1;32m    479\u001b[0m     \u001b[39mreturn\u001b[39;00m handle_torch_function(\n\u001b[1;32m    480\u001b[0m         Tensor\u001b[39m.\u001b[39mbackward,\n\u001b[1;32m    481\u001b[0m         (\u001b[39mself\u001b[39m,),\n\u001b[0;32m   (...)\u001b[0m\n\u001b[1;32m    486\u001b[0m         inputs\u001b[39m=\u001b[39minputs,\n\u001b[1;32m    487\u001b[0m     )\n\u001b[0;32m--> 488\u001b[0m torch\u001b[39m.\u001b[39;49mautograd\u001b[39m.\u001b[39;49mbackward(\n\u001b[1;32m    489\u001b[0m     \u001b[39mself\u001b[39;49m, gradient, retain_graph, create_graph, inputs\u001b[39m=\u001b[39;49minputs\n\u001b[1;32m    490\u001b[0m )\n",
      "File \u001b[0;32m/usr/local/anaconda3/envs/csci1470/lib/python3.10/site-packages/torch/autograd/__init__.py:197\u001b[0m, in \u001b[0;36mbackward\u001b[0;34m(tensors, grad_tensors, retain_graph, create_graph, grad_variables, inputs)\u001b[0m\n\u001b[1;32m    192\u001b[0m     retain_graph \u001b[39m=\u001b[39m create_graph\n\u001b[1;32m    194\u001b[0m \u001b[39m# The reason we repeat same the comment below is that\u001b[39;00m\n\u001b[1;32m    195\u001b[0m \u001b[39m# some Python versions print out the first line of a multi-line function\u001b[39;00m\n\u001b[1;32m    196\u001b[0m \u001b[39m# calls in the traceback and some print out the last line\u001b[39;00m\n\u001b[0;32m--> 197\u001b[0m Variable\u001b[39m.\u001b[39;49m_execution_engine\u001b[39m.\u001b[39;49mrun_backward(  \u001b[39m# Calls into the C++ engine to run the backward pass\u001b[39;49;00m\n\u001b[1;32m    198\u001b[0m     tensors, grad_tensors_, retain_graph, create_graph, inputs,\n\u001b[1;32m    199\u001b[0m     allow_unreachable\u001b[39m=\u001b[39;49m\u001b[39mTrue\u001b[39;49;00m, accumulate_grad\u001b[39m=\u001b[39;49m\u001b[39mTrue\u001b[39;49;00m)\n",
      "\u001b[0;31mKeyboardInterrupt\u001b[0m: "
     ]
    }
   ],
   "source": [
    "plt.rcParams['figure.figsize'] = [10, 5]\n",
    "train_model(visualize=True, notebook=True, random=False)"
   ]
  }
 ],
 "metadata": {
  "kernelspec": {
   "display_name": "csci1470",
   "language": "python",
   "name": "python3"
  },
  "language_info": {
   "codemirror_mode": {
    "name": "ipython",
    "version": 3
   },
   "file_extension": ".py",
   "mimetype": "text/x-python",
   "name": "python",
   "nbconvert_exporter": "python",
   "pygments_lexer": "ipython3",
   "version": "3.10.9"
  },
  "orig_nbformat": 4
 },
 "nbformat": 4,
 "nbformat_minor": 2
}
