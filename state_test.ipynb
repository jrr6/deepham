{
 "cells": [
  {
   "cell_type": "code",
   "execution_count": 5,
   "metadata": {},
   "outputs": [
    {
     "name": "stdout",
     "output_type": "stream",
     "text": [
      "The autoreload extension is already loaded. To reload it, use:\n",
      "  %reload_ext autoreload\n"
     ]
    }
   ],
   "source": [
    "%load_ext autoreload\n",
    "%autoreload 1"
   ]
  },
  {
   "cell_type": "code",
   "execution_count": 33,
   "metadata": {},
   "outputs": [],
   "source": [
    "%aimport GraphState\n",
    "import torch\n",
    "import torch_geometric\n",
    "import numpy as np\n",
    "\n",
    "from GraphState import GraphState\n",
    "from torch_geometric.data import Data"
   ]
  },
  {
   "cell_type": "code",
   "execution_count": 64,
   "metadata": {},
   "outputs": [
    {
     "name": "stdout",
     "output_type": "stream",
     "text": [
      "Vertices:\n",
      "tensor([[1., 0., 0.],\n",
      "        [0., 1., 0.],\n",
      "        [0., 0., 1.]])\n",
      "\n",
      "Edge Indices:\n",
      "tensor([[0., 0., 1., 1., 2., 2.],\n",
      "        [1., 2., 0., 2., 0., 1.]])\n",
      "\n",
      "Current Vertex:\n",
      "tensor([0., 0., 0.])\n",
      "\n",
      "---- Step to Vertex 0 ----\n",
      "\n",
      "Vertices:\n",
      "tensor([[1., 0., 0.],\n",
      "        [0., 1., 0.],\n",
      "        [0., 0., 1.]])\n",
      "\n",
      "Edge Indices:\n",
      "tensor([[0., 0., 1., 1., 2., 2.],\n",
      "        [1., 2., 0., 2., 0., 1.]])\n",
      "\n",
      "Current Vertex:\n",
      "tensor([1., 0., 0.])\n",
      "\n",
      "Is Done: False\n",
      "\n",
      "Is Truncated: False\n",
      "\n",
      "---- Step to Vertex 1 ----\n",
      "\n",
      "Vertices:\n",
      "tensor([[1., 0., 0.],\n",
      "        [0., 1., 0.],\n",
      "        [0., 0., 1.]])\n",
      "\n",
      "Edge Indices:\n",
      "tensor([[1., 2.],\n",
      "        [2., 1.]])\n",
      "\n",
      "Current Vertex:\n",
      "tensor([0., 1., 0.])\n",
      "\n",
      "Is Done: False\n",
      "\n",
      "Is Truncated: False\n",
      "\n",
      "---- Step to Vertex 2 ----\n",
      "\n",
      "Vertices:\n",
      "tensor([[1., 0., 0.],\n",
      "        [0., 1., 0.],\n",
      "        [0., 0., 1.]])\n",
      "\n",
      "Edge Indices:\n",
      "tensor([], size=(2, 0))\n",
      "\n",
      "Current Vertex:\n",
      "tensor([0., 0., 1.])\n",
      "\n",
      "Is Done: True\n",
      "\n",
      "Is Truncated: False\n"
     ]
    }
   ],
   "source": [
    "K3 = Data(\n",
    "    x = torch.eye(3),\n",
    "    edge_index = torch.Tensor(\n",
    "        [[0, 0, 1, 1, 2, 2],\n",
    "         [1, 2, 0, 2, 0, 1]]\n",
    "    )\n",
    ")\n",
    "\n",
    "env = GraphState(K3)\n",
    "\n",
    "print(f\"Vertices:\\n{env.graph.x}\\n\\nEdge Indices:\\n{env.graph.edge_index}\\n\\nCurrent Vertex:\\n{env.curr_vertex}\")\n",
    "\n",
    "print(\"\\n---- Step to Vertex 0 ----\\n\")\n",
    "env, reward, isDone, isTruncated = env.step(0)\n",
    "print(f\"Vertices:\\n{env.graph.x}\\n\\nEdge Indices:\\n{env.graph.edge_index}\\n\\nCurrent Vertex:\\n{env.curr_vertex}\\n\\nIs Done: {isDone}\\n\\nIs Truncated: {isTruncated}\")\n",
    "\n",
    "print(\"\\n---- Step to Vertex 1 ----\\n\")\n",
    "env, reward, isDone, isTruncated = env.step(1)\n",
    "print(f\"Vertices:\\n{env.graph.x}\\n\\nEdge Indices:\\n{env.graph.edge_index}\\n\\nCurrent Vertex:\\n{env.curr_vertex}\\n\\nIs Done: {isDone}\\n\\nIs Truncated: {isTruncated}\")\n",
    "\n",
    "print(\"\\n---- Step to Vertex 2 ----\\n\")\n",
    "env, reward, isDone, isTruncated = env.step(2)\n",
    "print(f\"Vertices:\\n{env.graph.x}\\n\\nEdge Indices:\\n{env.graph.edge_index}\\n\\nCurrent Vertex:\\n{env.curr_vertex}\\n\\nIs Done: {isDone}\\n\\nIs Truncated: {isTruncated}\")"
   ]
  },
  {
   "cell_type": "code",
   "execution_count": 65,
   "metadata": {},
   "outputs": [
    {
     "name": "stdout",
     "output_type": "stream",
     "text": [
      "---- Step to Vertex 0 ----\n",
      "---- Step to Vertex 1 ----\n",
      "---- Step to Vertex 0 ----\n"
     ]
    },
    {
     "ename": "RuntimeError",
     "evalue": "Tried to step to a non-adjacent vertex",
     "output_type": "error",
     "traceback": [
      "\u001b[0;31m---------------------------------------------------------------------------\u001b[0m",
      "\u001b[0;31mRuntimeError\u001b[0m                              Traceback (most recent call last)",
      "Cell \u001b[0;32mIn[65], line 15\u001b[0m\n\u001b[1;32m     13\u001b[0m env, reward, isDone, isTruncated \u001b[39m=\u001b[39m env\u001b[39m.\u001b[39mstep(\u001b[39m1\u001b[39m)\n\u001b[1;32m     14\u001b[0m \u001b[39mprint\u001b[39m(\u001b[39m\"\u001b[39m\u001b[39m---- Step to Vertex 0 ----\u001b[39m\u001b[39m\"\u001b[39m)\n\u001b[0;32m---> 15\u001b[0m env, reward, isDone, isTruncated \u001b[39m=\u001b[39m env\u001b[39m.\u001b[39;49mstep(\u001b[39m0\u001b[39;49m)\n",
      "File \u001b[0;32m~/Documents/deepham/GraphState.py:37\u001b[0m, in \u001b[0;36mGraphState.step\u001b[0;34m(self, action_idx)\u001b[0m\n\u001b[1;32m     34\u001b[0m if torch.all(np.equal(K3.edge_index, edge), dim=0).any().item():  # type: ignore\n\u001b[1;32m     35\u001b[0m     raise RuntimeError(\"Tried to step to a non-adjacent vertex\")\n\u001b[0;32m---> 37\u001b[0m # Remove all the edges from current_vertex in the graph so we don't revisit it\n\u001b[1;32m     38\u001b[0m not_adjacent_to_old_vertex = torch.all(self.graph.edge_index != self.curr_vertex_index, dim=0)\n\u001b[1;32m     39\u001b[0m self.graph = Data(x=self.graph.x, edge_index=self.graph.edge_index[:, not_adjacent_to_old_vertex])\n",
      "\u001b[0;31mRuntimeError\u001b[0m: Tried to step to a non-adjacent vertex"
     ]
    }
   ],
   "source": [
    "K3 = Data(\n",
    "    x = torch.eye(3),\n",
    "    edge_index = torch.Tensor(\n",
    "        [[0, 0, 1, 1, 2, 2],\n",
    "         [1, 2, 0, 2, 0, 1]]\n",
    "    )\n",
    ")\n",
    "\n",
    "env = GraphState(K3)\n",
    "print(\"---- Step to Vertex 0 ----\")\n",
    "env, reward, isDone, isTruncated = env.step(0)\n",
    "print(\"---- Step to Vertex 1 ----\")\n",
    "env, reward, isDone, isTruncated = env.step(1)\n",
    "print(\"---- Step to Vertex 0 ----\")\n",
    "env, reward, isDone, isTruncated = env.step(0) # NOTE: Should throw an exception"
   ]
  }
 ],
 "metadata": {
  "kernelspec": {
   "display_name": "csci1470",
   "language": "python",
   "name": "python3"
  },
  "language_info": {
   "codemirror_mode": {
    "name": "ipython",
    "version": 3
   },
   "file_extension": ".py",
   "mimetype": "text/x-python",
   "name": "python",
   "nbconvert_exporter": "python",
   "pygments_lexer": "ipython3",
   "version": "3.10.9"
  },
  "orig_nbformat": 4
 },
 "nbformat": 4,
 "nbformat_minor": 2
}
